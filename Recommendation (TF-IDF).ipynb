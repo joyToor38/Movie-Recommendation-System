{
 "cells": [
  {
   "cell_type": "code",
   "execution_count": 167,
   "id": "9543174f-8dd1-46f4-ab02-9651b76c9571",
   "metadata": {},
   "outputs": [],
   "source": [
    "import pandas as pd\n",
    "import numpy as np"
   ]
  },
  {
   "cell_type": "code",
   "execution_count": 168,
   "id": "1627a22c-0fc9-46e9-b273-497a2f004b53",
   "metadata": {},
   "outputs": [],
   "source": [
    "df = pd.read_csv('data.csv')"
   ]
  },
  {
   "cell_type": "code",
   "execution_count": 169,
   "id": "9e9295eb-bbb3-429a-98f9-adadafcd53a0",
   "metadata": {},
   "outputs": [
    {
     "data": {
      "text/plain": [
       "Index(['id', 'imdb_id', 'popularity', 'budget', 'revenue', 'original_title',\n",
       "       'cast', 'homepage', 'director', 'tagline', 'keywords', 'overview',\n",
       "       'runtime', 'genres', 'production_companies', 'release_date',\n",
       "       'vote_count', 'vote_average', 'release_year', 'budget_adj',\n",
       "       'revenue_adj'],\n",
       "      dtype='object')"
      ]
     },
     "execution_count": 169,
     "metadata": {},
     "output_type": "execute_result"
    }
   ],
   "source": [
    "df.columns"
   ]
  },
  {
   "cell_type": "code",
   "execution_count": 170,
   "id": "05a4c233-9df1-41c4-bd9f-8d0cf7952f24",
   "metadata": {},
   "outputs": [
    {
     "data": {
      "text/html": [
       "<div>\n",
       "<style scoped>\n",
       "    .dataframe tbody tr th:only-of-type {\n",
       "        vertical-align: middle;\n",
       "    }\n",
       "\n",
       "    .dataframe tbody tr th {\n",
       "        vertical-align: top;\n",
       "    }\n",
       "\n",
       "    .dataframe thead th {\n",
       "        text-align: right;\n",
       "    }\n",
       "</style>\n",
       "<table border=\"1\" class=\"dataframe\">\n",
       "  <thead>\n",
       "    <tr style=\"text-align: right;\">\n",
       "      <th></th>\n",
       "      <th>id</th>\n",
       "      <th>imdb_id</th>\n",
       "      <th>popularity</th>\n",
       "      <th>budget</th>\n",
       "      <th>revenue</th>\n",
       "      <th>original_title</th>\n",
       "      <th>cast</th>\n",
       "      <th>homepage</th>\n",
       "      <th>director</th>\n",
       "      <th>tagline</th>\n",
       "      <th>...</th>\n",
       "      <th>overview</th>\n",
       "      <th>runtime</th>\n",
       "      <th>genres</th>\n",
       "      <th>production_companies</th>\n",
       "      <th>release_date</th>\n",
       "      <th>vote_count</th>\n",
       "      <th>vote_average</th>\n",
       "      <th>release_year</th>\n",
       "      <th>budget_adj</th>\n",
       "      <th>revenue_adj</th>\n",
       "    </tr>\n",
       "  </thead>\n",
       "  <tbody>\n",
       "    <tr>\n",
       "      <th>0</th>\n",
       "      <td>135397</td>\n",
       "      <td>tt0369610</td>\n",
       "      <td>32.985763</td>\n",
       "      <td>150000000</td>\n",
       "      <td>1513528810</td>\n",
       "      <td>Jurassic World</td>\n",
       "      <td>Chris Pratt|Bryce Dallas Howard|Irrfan Khan|Vi...</td>\n",
       "      <td>http://www.jurassicworld.com/</td>\n",
       "      <td>Colin Trevorrow</td>\n",
       "      <td>The park is open.</td>\n",
       "      <td>...</td>\n",
       "      <td>Twenty-two years after the events of Jurassic ...</td>\n",
       "      <td>124</td>\n",
       "      <td>Action|Adventure|Science Fiction|Thriller</td>\n",
       "      <td>Universal Studios|Amblin Entertainment|Legenda...</td>\n",
       "      <td>6/9/15</td>\n",
       "      <td>5562</td>\n",
       "      <td>6.5</td>\n",
       "      <td>2015</td>\n",
       "      <td>1.379999e+08</td>\n",
       "      <td>1.392446e+09</td>\n",
       "    </tr>\n",
       "    <tr>\n",
       "      <th>1</th>\n",
       "      <td>76341</td>\n",
       "      <td>tt1392190</td>\n",
       "      <td>28.419936</td>\n",
       "      <td>150000000</td>\n",
       "      <td>378436354</td>\n",
       "      <td>Mad Max: Fury Road</td>\n",
       "      <td>Tom Hardy|Charlize Theron|Hugh Keays-Byrne|Nic...</td>\n",
       "      <td>http://www.madmaxmovie.com/</td>\n",
       "      <td>George Miller</td>\n",
       "      <td>What a Lovely Day.</td>\n",
       "      <td>...</td>\n",
       "      <td>An apocalyptic story set in the furthest reach...</td>\n",
       "      <td>120</td>\n",
       "      <td>Action|Adventure|Science Fiction|Thriller</td>\n",
       "      <td>Village Roadshow Pictures|Kennedy Miller Produ...</td>\n",
       "      <td>5/13/15</td>\n",
       "      <td>6185</td>\n",
       "      <td>7.1</td>\n",
       "      <td>2015</td>\n",
       "      <td>1.379999e+08</td>\n",
       "      <td>3.481613e+08</td>\n",
       "    </tr>\n",
       "    <tr>\n",
       "      <th>2</th>\n",
       "      <td>262500</td>\n",
       "      <td>tt2908446</td>\n",
       "      <td>13.112507</td>\n",
       "      <td>110000000</td>\n",
       "      <td>295238201</td>\n",
       "      <td>Insurgent</td>\n",
       "      <td>Shailene Woodley|Theo James|Kate Winslet|Ansel...</td>\n",
       "      <td>http://www.thedivergentseries.movie/#insurgent</td>\n",
       "      <td>Robert Schwentke</td>\n",
       "      <td>One Choice Can Destroy You</td>\n",
       "      <td>...</td>\n",
       "      <td>Beatrice Prior must confront her inner demons ...</td>\n",
       "      <td>119</td>\n",
       "      <td>Adventure|Science Fiction|Thriller</td>\n",
       "      <td>Summit Entertainment|Mandeville Films|Red Wago...</td>\n",
       "      <td>3/18/15</td>\n",
       "      <td>2480</td>\n",
       "      <td>6.3</td>\n",
       "      <td>2015</td>\n",
       "      <td>1.012000e+08</td>\n",
       "      <td>2.716190e+08</td>\n",
       "    </tr>\n",
       "    <tr>\n",
       "      <th>3</th>\n",
       "      <td>140607</td>\n",
       "      <td>tt2488496</td>\n",
       "      <td>11.173104</td>\n",
       "      <td>200000000</td>\n",
       "      <td>2068178225</td>\n",
       "      <td>Star Wars: The Force Awakens</td>\n",
       "      <td>Harrison Ford|Mark Hamill|Carrie Fisher|Adam D...</td>\n",
       "      <td>http://www.starwars.com/films/star-wars-episod...</td>\n",
       "      <td>J.J. Abrams</td>\n",
       "      <td>Every generation has a story.</td>\n",
       "      <td>...</td>\n",
       "      <td>Thirty years after defeating the Galactic Empi...</td>\n",
       "      <td>136</td>\n",
       "      <td>Action|Adventure|Science Fiction|Fantasy</td>\n",
       "      <td>Lucasfilm|Truenorth Productions|Bad Robot</td>\n",
       "      <td>12/15/15</td>\n",
       "      <td>5292</td>\n",
       "      <td>7.5</td>\n",
       "      <td>2015</td>\n",
       "      <td>1.839999e+08</td>\n",
       "      <td>1.902723e+09</td>\n",
       "    </tr>\n",
       "    <tr>\n",
       "      <th>4</th>\n",
       "      <td>168259</td>\n",
       "      <td>tt2820852</td>\n",
       "      <td>9.335014</td>\n",
       "      <td>190000000</td>\n",
       "      <td>1506249360</td>\n",
       "      <td>Furious 7</td>\n",
       "      <td>Vin Diesel|Paul Walker|Jason Statham|Michelle ...</td>\n",
       "      <td>http://www.furious7.com/</td>\n",
       "      <td>James Wan</td>\n",
       "      <td>Vengeance Hits Home</td>\n",
       "      <td>...</td>\n",
       "      <td>Deckard Shaw seeks revenge against Dominic Tor...</td>\n",
       "      <td>137</td>\n",
       "      <td>Action|Crime|Thriller</td>\n",
       "      <td>Universal Pictures|Original Film|Media Rights ...</td>\n",
       "      <td>4/1/15</td>\n",
       "      <td>2947</td>\n",
       "      <td>7.3</td>\n",
       "      <td>2015</td>\n",
       "      <td>1.747999e+08</td>\n",
       "      <td>1.385749e+09</td>\n",
       "    </tr>\n",
       "  </tbody>\n",
       "</table>\n",
       "<p>5 rows × 21 columns</p>\n",
       "</div>"
      ],
      "text/plain": [
       "       id    imdb_id  popularity     budget     revenue   \n",
       "0  135397  tt0369610   32.985763  150000000  1513528810  \\\n",
       "1   76341  tt1392190   28.419936  150000000   378436354   \n",
       "2  262500  tt2908446   13.112507  110000000   295238201   \n",
       "3  140607  tt2488496   11.173104  200000000  2068178225   \n",
       "4  168259  tt2820852    9.335014  190000000  1506249360   \n",
       "\n",
       "                 original_title   \n",
       "0                Jurassic World  \\\n",
       "1            Mad Max: Fury Road   \n",
       "2                     Insurgent   \n",
       "3  Star Wars: The Force Awakens   \n",
       "4                     Furious 7   \n",
       "\n",
       "                                                cast   \n",
       "0  Chris Pratt|Bryce Dallas Howard|Irrfan Khan|Vi...  \\\n",
       "1  Tom Hardy|Charlize Theron|Hugh Keays-Byrne|Nic...   \n",
       "2  Shailene Woodley|Theo James|Kate Winslet|Ansel...   \n",
       "3  Harrison Ford|Mark Hamill|Carrie Fisher|Adam D...   \n",
       "4  Vin Diesel|Paul Walker|Jason Statham|Michelle ...   \n",
       "\n",
       "                                            homepage          director   \n",
       "0                      http://www.jurassicworld.com/   Colin Trevorrow  \\\n",
       "1                        http://www.madmaxmovie.com/     George Miller   \n",
       "2     http://www.thedivergentseries.movie/#insurgent  Robert Schwentke   \n",
       "3  http://www.starwars.com/films/star-wars-episod...       J.J. Abrams   \n",
       "4                           http://www.furious7.com/         James Wan   \n",
       "\n",
       "                         tagline  ...   \n",
       "0              The park is open.  ...  \\\n",
       "1             What a Lovely Day.  ...   \n",
       "2     One Choice Can Destroy You  ...   \n",
       "3  Every generation has a story.  ...   \n",
       "4            Vengeance Hits Home  ...   \n",
       "\n",
       "                                            overview runtime   \n",
       "0  Twenty-two years after the events of Jurassic ...     124  \\\n",
       "1  An apocalyptic story set in the furthest reach...     120   \n",
       "2  Beatrice Prior must confront her inner demons ...     119   \n",
       "3  Thirty years after defeating the Galactic Empi...     136   \n",
       "4  Deckard Shaw seeks revenge against Dominic Tor...     137   \n",
       "\n",
       "                                      genres   \n",
       "0  Action|Adventure|Science Fiction|Thriller  \\\n",
       "1  Action|Adventure|Science Fiction|Thriller   \n",
       "2         Adventure|Science Fiction|Thriller   \n",
       "3   Action|Adventure|Science Fiction|Fantasy   \n",
       "4                      Action|Crime|Thriller   \n",
       "\n",
       "                                production_companies release_date vote_count   \n",
       "0  Universal Studios|Amblin Entertainment|Legenda...       6/9/15       5562  \\\n",
       "1  Village Roadshow Pictures|Kennedy Miller Produ...      5/13/15       6185   \n",
       "2  Summit Entertainment|Mandeville Films|Red Wago...      3/18/15       2480   \n",
       "3          Lucasfilm|Truenorth Productions|Bad Robot     12/15/15       5292   \n",
       "4  Universal Pictures|Original Film|Media Rights ...       4/1/15       2947   \n",
       "\n",
       "   vote_average  release_year    budget_adj   revenue_adj  \n",
       "0           6.5          2015  1.379999e+08  1.392446e+09  \n",
       "1           7.1          2015  1.379999e+08  3.481613e+08  \n",
       "2           6.3          2015  1.012000e+08  2.716190e+08  \n",
       "3           7.5          2015  1.839999e+08  1.902723e+09  \n",
       "4           7.3          2015  1.747999e+08  1.385749e+09  \n",
       "\n",
       "[5 rows x 21 columns]"
      ]
     },
     "execution_count": 170,
     "metadata": {},
     "output_type": "execute_result"
    }
   ],
   "source": [
    "df.head()"
   ]
  },
  {
   "cell_type": "code",
   "execution_count": 171,
   "id": "f958ce9e-c8db-4e03-b321-ae44c6bf08ed",
   "metadata": {},
   "outputs": [
    {
     "data": {
      "text/html": [
       "<div>\n",
       "<style scoped>\n",
       "    .dataframe tbody tr th:only-of-type {\n",
       "        vertical-align: middle;\n",
       "    }\n",
       "\n",
       "    .dataframe tbody tr th {\n",
       "        vertical-align: top;\n",
       "    }\n",
       "\n",
       "    .dataframe thead th {\n",
       "        text-align: right;\n",
       "    }\n",
       "</style>\n",
       "<table border=\"1\" class=\"dataframe\">\n",
       "  <thead>\n",
       "    <tr style=\"text-align: right;\">\n",
       "      <th></th>\n",
       "      <th>id</th>\n",
       "      <th>original_title</th>\n",
       "      <th>genres</th>\n",
       "      <th>cast</th>\n",
       "      <th>director</th>\n",
       "      <th>keywords</th>\n",
       "      <th>overview</th>\n",
       "    </tr>\n",
       "  </thead>\n",
       "  <tbody>\n",
       "    <tr>\n",
       "      <th>0</th>\n",
       "      <td>135397</td>\n",
       "      <td>Jurassic World</td>\n",
       "      <td>Action|Adventure|Science Fiction|Thriller</td>\n",
       "      <td>Chris Pratt|Bryce Dallas Howard|Irrfan Khan|Vi...</td>\n",
       "      <td>Colin Trevorrow</td>\n",
       "      <td>monster|dna|tyrannosaurus rex|velociraptor|island</td>\n",
       "      <td>Twenty-two years after the events of Jurassic ...</td>\n",
       "    </tr>\n",
       "    <tr>\n",
       "      <th>1</th>\n",
       "      <td>76341</td>\n",
       "      <td>Mad Max: Fury Road</td>\n",
       "      <td>Action|Adventure|Science Fiction|Thriller</td>\n",
       "      <td>Tom Hardy|Charlize Theron|Hugh Keays-Byrne|Nic...</td>\n",
       "      <td>George Miller</td>\n",
       "      <td>future|chase|post-apocalyptic|dystopia|australia</td>\n",
       "      <td>An apocalyptic story set in the furthest reach...</td>\n",
       "    </tr>\n",
       "    <tr>\n",
       "      <th>2</th>\n",
       "      <td>262500</td>\n",
       "      <td>Insurgent</td>\n",
       "      <td>Adventure|Science Fiction|Thriller</td>\n",
       "      <td>Shailene Woodley|Theo James|Kate Winslet|Ansel...</td>\n",
       "      <td>Robert Schwentke</td>\n",
       "      <td>based on novel|revolution|dystopia|sequel|dyst...</td>\n",
       "      <td>Beatrice Prior must confront her inner demons ...</td>\n",
       "    </tr>\n",
       "    <tr>\n",
       "      <th>3</th>\n",
       "      <td>140607</td>\n",
       "      <td>Star Wars: The Force Awakens</td>\n",
       "      <td>Action|Adventure|Science Fiction|Fantasy</td>\n",
       "      <td>Harrison Ford|Mark Hamill|Carrie Fisher|Adam D...</td>\n",
       "      <td>J.J. Abrams</td>\n",
       "      <td>android|spaceship|jedi|space opera|3d</td>\n",
       "      <td>Thirty years after defeating the Galactic Empi...</td>\n",
       "    </tr>\n",
       "    <tr>\n",
       "      <th>4</th>\n",
       "      <td>168259</td>\n",
       "      <td>Furious 7</td>\n",
       "      <td>Action|Crime|Thriller</td>\n",
       "      <td>Vin Diesel|Paul Walker|Jason Statham|Michelle ...</td>\n",
       "      <td>James Wan</td>\n",
       "      <td>car race|speed|revenge|suspense|car</td>\n",
       "      <td>Deckard Shaw seeks revenge against Dominic Tor...</td>\n",
       "    </tr>\n",
       "  </tbody>\n",
       "</table>\n",
       "</div>"
      ],
      "text/plain": [
       "       id                original_title   \n",
       "0  135397                Jurassic World  \\\n",
       "1   76341            Mad Max: Fury Road   \n",
       "2  262500                     Insurgent   \n",
       "3  140607  Star Wars: The Force Awakens   \n",
       "4  168259                     Furious 7   \n",
       "\n",
       "                                      genres   \n",
       "0  Action|Adventure|Science Fiction|Thriller  \\\n",
       "1  Action|Adventure|Science Fiction|Thriller   \n",
       "2         Adventure|Science Fiction|Thriller   \n",
       "3   Action|Adventure|Science Fiction|Fantasy   \n",
       "4                      Action|Crime|Thriller   \n",
       "\n",
       "                                                cast          director   \n",
       "0  Chris Pratt|Bryce Dallas Howard|Irrfan Khan|Vi...   Colin Trevorrow  \\\n",
       "1  Tom Hardy|Charlize Theron|Hugh Keays-Byrne|Nic...     George Miller   \n",
       "2  Shailene Woodley|Theo James|Kate Winslet|Ansel...  Robert Schwentke   \n",
       "3  Harrison Ford|Mark Hamill|Carrie Fisher|Adam D...       J.J. Abrams   \n",
       "4  Vin Diesel|Paul Walker|Jason Statham|Michelle ...         James Wan   \n",
       "\n",
       "                                            keywords   \n",
       "0  monster|dna|tyrannosaurus rex|velociraptor|island  \\\n",
       "1   future|chase|post-apocalyptic|dystopia|australia   \n",
       "2  based on novel|revolution|dystopia|sequel|dyst...   \n",
       "3              android|spaceship|jedi|space opera|3d   \n",
       "4                car race|speed|revenge|suspense|car   \n",
       "\n",
       "                                            overview  \n",
       "0  Twenty-two years after the events of Jurassic ...  \n",
       "1  An apocalyptic story set in the furthest reach...  \n",
       "2  Beatrice Prior must confront her inner demons ...  \n",
       "3  Thirty years after defeating the Galactic Empi...  \n",
       "4  Deckard Shaw seeks revenge against Dominic Tor...  "
      ]
     },
     "execution_count": 171,
     "metadata": {},
     "output_type": "execute_result"
    }
   ],
   "source": [
    "data = df[['id', 'original_title', 'genres', 'cast', 'director', 'keywords', 'overview',]]\n",
    "data.head()"
   ]
  },
  {
   "cell_type": "code",
   "execution_count": 172,
   "id": "601a5d4c-2a10-4151-92ea-1dc5aadcabec",
   "metadata": {},
   "outputs": [
    {
     "data": {
      "text/plain": [
       "id                   0\n",
       "original_title       0\n",
       "genres              23\n",
       "cast                76\n",
       "director            44\n",
       "keywords          1493\n",
       "overview             4\n",
       "dtype: int64"
      ]
     },
     "execution_count": 172,
     "metadata": {},
     "output_type": "execute_result"
    }
   ],
   "source": [
    "data.isnull().sum()"
   ]
  },
  {
   "cell_type": "code",
   "execution_count": 173,
   "id": "c5ae3d2f-7dd3-41be-b141-90dacbc5f570",
   "metadata": {},
   "outputs": [
    {
     "data": {
      "text/plain": [
       "id                0\n",
       "original_title    0\n",
       "genres            0\n",
       "cast              0\n",
       "director          0\n",
       "keywords          0\n",
       "overview          0\n",
       "dtype: int64"
      ]
     },
     "execution_count": 173,
     "metadata": {},
     "output_type": "execute_result"
    }
   ],
   "source": [
    "new_data = data.fillna('')\n",
    "new_data.isnull().sum()"
   ]
  },
  {
   "cell_type": "code",
   "execution_count": 174,
   "id": "4f48614b-ba93-4b53-bc53-61574676d427",
   "metadata": {},
   "outputs": [
    {
     "data": {
      "text/plain": [
       "['Action', 'Adventure', 'Science Fiction', 'Thriller']"
      ]
     },
     "execution_count": 174,
     "metadata": {},
     "output_type": "execute_result"
    }
   ],
   "source": [
    "new_data.iloc[0].genres.split('|')"
   ]
  },
  {
   "cell_type": "code",
   "execution_count": 175,
   "id": "1b8fe209-7d4d-4f57-aac2-6586fafbf9a1",
   "metadata": {},
   "outputs": [],
   "source": [
    "new_data['genres'] = new_data['genres'].str.split('|')\n",
    "\n",
    "new_data['keywords'] = new_data['keywords'].str.split('|')\n",
    "\n",
    "new_data['cast'] = new_data['cast'].str.split('|')\n",
    "\n",
    "new_data['overview'] = new_data['overview'].apply(lambda x: x.split())\n",
    "\n",
    "new_data['director'] = new_data['director'].str.replace(\" \", \"\")\n",
    "\n",
    "new_data['cast'] = new_data['cast'].apply(lambda x: [i.replace(\" \", \"\") for i in x])\n",
    "new_data['genres'] = new_data['genres'].apply(lambda x: [i.replace(\" \", \"\") for i in x])\n",
    "new_data['keywords'] = new_data['keywords'].apply(lambda x: [i.replace(\" \", \"\") for i in x])\n",
    "\n",
    "new_data['director'] = new_data['director'].apply(lambda x: [x])"
   ]
  },
  {
   "cell_type": "code",
   "execution_count": 176,
   "id": "d9c475c5-b50f-49f1-a864-045f55f211e9",
   "metadata": {},
   "outputs": [
    {
     "data": {
      "text/html": [
       "<div>\n",
       "<style scoped>\n",
       "    .dataframe tbody tr th:only-of-type {\n",
       "        vertical-align: middle;\n",
       "    }\n",
       "\n",
       "    .dataframe tbody tr th {\n",
       "        vertical-align: top;\n",
       "    }\n",
       "\n",
       "    .dataframe thead th {\n",
       "        text-align: right;\n",
       "    }\n",
       "</style>\n",
       "<table border=\"1\" class=\"dataframe\">\n",
       "  <thead>\n",
       "    <tr style=\"text-align: right;\">\n",
       "      <th></th>\n",
       "      <th>id</th>\n",
       "      <th>original_title</th>\n",
       "      <th>genres</th>\n",
       "      <th>cast</th>\n",
       "      <th>director</th>\n",
       "      <th>keywords</th>\n",
       "      <th>overview</th>\n",
       "    </tr>\n",
       "  </thead>\n",
       "  <tbody>\n",
       "    <tr>\n",
       "      <th>0</th>\n",
       "      <td>135397</td>\n",
       "      <td>Jurassic World</td>\n",
       "      <td>[Action, Adventure, ScienceFiction, Thriller]</td>\n",
       "      <td>[ChrisPratt, BryceDallasHoward, IrrfanKhan, Vi...</td>\n",
       "      <td>[ColinTrevorrow]</td>\n",
       "      <td>[monster, dna, tyrannosaurusrex, velociraptor,...</td>\n",
       "      <td>[Twenty-two, years, after, the, events, of, Ju...</td>\n",
       "    </tr>\n",
       "    <tr>\n",
       "      <th>1</th>\n",
       "      <td>76341</td>\n",
       "      <td>Mad Max: Fury Road</td>\n",
       "      <td>[Action, Adventure, ScienceFiction, Thriller]</td>\n",
       "      <td>[TomHardy, CharlizeTheron, HughKeays-Byrne, Ni...</td>\n",
       "      <td>[GeorgeMiller]</td>\n",
       "      <td>[future, chase, post-apocalyptic, dystopia, au...</td>\n",
       "      <td>[An, apocalyptic, story, set, in, the, furthes...</td>\n",
       "    </tr>\n",
       "    <tr>\n",
       "      <th>2</th>\n",
       "      <td>262500</td>\n",
       "      <td>Insurgent</td>\n",
       "      <td>[Adventure, ScienceFiction, Thriller]</td>\n",
       "      <td>[ShaileneWoodley, TheoJames, KateWinslet, Anse...</td>\n",
       "      <td>[RobertSchwentke]</td>\n",
       "      <td>[basedonnovel, revolution, dystopia, sequel, d...</td>\n",
       "      <td>[Beatrice, Prior, must, confront, her, inner, ...</td>\n",
       "    </tr>\n",
       "    <tr>\n",
       "      <th>3</th>\n",
       "      <td>140607</td>\n",
       "      <td>Star Wars: The Force Awakens</td>\n",
       "      <td>[Action, Adventure, ScienceFiction, Fantasy]</td>\n",
       "      <td>[HarrisonFord, MarkHamill, CarrieFisher, AdamD...</td>\n",
       "      <td>[J.J.Abrams]</td>\n",
       "      <td>[android, spaceship, jedi, spaceopera, 3d]</td>\n",
       "      <td>[Thirty, years, after, defeating, the, Galacti...</td>\n",
       "    </tr>\n",
       "    <tr>\n",
       "      <th>4</th>\n",
       "      <td>168259</td>\n",
       "      <td>Furious 7</td>\n",
       "      <td>[Action, Crime, Thriller]</td>\n",
       "      <td>[VinDiesel, PaulWalker, JasonStatham, Michelle...</td>\n",
       "      <td>[JamesWan]</td>\n",
       "      <td>[carrace, speed, revenge, suspense, car]</td>\n",
       "      <td>[Deckard, Shaw, seeks, revenge, against, Domin...</td>\n",
       "    </tr>\n",
       "  </tbody>\n",
       "</table>\n",
       "</div>"
      ],
      "text/plain": [
       "       id                original_title   \n",
       "0  135397                Jurassic World  \\\n",
       "1   76341            Mad Max: Fury Road   \n",
       "2  262500                     Insurgent   \n",
       "3  140607  Star Wars: The Force Awakens   \n",
       "4  168259                     Furious 7   \n",
       "\n",
       "                                          genres   \n",
       "0  [Action, Adventure, ScienceFiction, Thriller]  \\\n",
       "1  [Action, Adventure, ScienceFiction, Thriller]   \n",
       "2          [Adventure, ScienceFiction, Thriller]   \n",
       "3   [Action, Adventure, ScienceFiction, Fantasy]   \n",
       "4                      [Action, Crime, Thriller]   \n",
       "\n",
       "                                                cast           director   \n",
       "0  [ChrisPratt, BryceDallasHoward, IrrfanKhan, Vi...   [ColinTrevorrow]  \\\n",
       "1  [TomHardy, CharlizeTheron, HughKeays-Byrne, Ni...     [GeorgeMiller]   \n",
       "2  [ShaileneWoodley, TheoJames, KateWinslet, Anse...  [RobertSchwentke]   \n",
       "3  [HarrisonFord, MarkHamill, CarrieFisher, AdamD...       [J.J.Abrams]   \n",
       "4  [VinDiesel, PaulWalker, JasonStatham, Michelle...         [JamesWan]   \n",
       "\n",
       "                                            keywords   \n",
       "0  [monster, dna, tyrannosaurusrex, velociraptor,...  \\\n",
       "1  [future, chase, post-apocalyptic, dystopia, au...   \n",
       "2  [basedonnovel, revolution, dystopia, sequel, d...   \n",
       "3         [android, spaceship, jedi, spaceopera, 3d]   \n",
       "4           [carrace, speed, revenge, suspense, car]   \n",
       "\n",
       "                                            overview  \n",
       "0  [Twenty-two, years, after, the, events, of, Ju...  \n",
       "1  [An, apocalyptic, story, set, in, the, furthes...  \n",
       "2  [Beatrice, Prior, must, confront, her, inner, ...  \n",
       "3  [Thirty, years, after, defeating, the, Galacti...  \n",
       "4  [Deckard, Shaw, seeks, revenge, against, Domin...  "
      ]
     },
     "execution_count": 176,
     "metadata": {},
     "output_type": "execute_result"
    }
   ],
   "source": [
    "new_data.head()"
   ]
  },
  {
   "cell_type": "code",
   "execution_count": 177,
   "id": "5ce55097-60a3-46a5-abfd-e3f053c041a4",
   "metadata": {},
   "outputs": [],
   "source": [
    "new_data['tags'] =  new_data['overview'] + new_data['genres'] +  new_data['keywords'] + new_data['cast'] +  new_data['director']"
   ]
  },
  {
   "cell_type": "code",
   "execution_count": 178,
   "id": "10f98b4e-1f75-44e7-89a2-143888c27e85",
   "metadata": {},
   "outputs": [
    {
     "data": {
      "text/html": [
       "<div>\n",
       "<style scoped>\n",
       "    .dataframe tbody tr th:only-of-type {\n",
       "        vertical-align: middle;\n",
       "    }\n",
       "\n",
       "    .dataframe tbody tr th {\n",
       "        vertical-align: top;\n",
       "    }\n",
       "\n",
       "    .dataframe thead th {\n",
       "        text-align: right;\n",
       "    }\n",
       "</style>\n",
       "<table border=\"1\" class=\"dataframe\">\n",
       "  <thead>\n",
       "    <tr style=\"text-align: right;\">\n",
       "      <th></th>\n",
       "      <th>id</th>\n",
       "      <th>original_title</th>\n",
       "      <th>genres</th>\n",
       "      <th>cast</th>\n",
       "      <th>director</th>\n",
       "      <th>keywords</th>\n",
       "      <th>overview</th>\n",
       "      <th>tags</th>\n",
       "    </tr>\n",
       "  </thead>\n",
       "  <tbody>\n",
       "    <tr>\n",
       "      <th>0</th>\n",
       "      <td>135397</td>\n",
       "      <td>Jurassic World</td>\n",
       "      <td>[Action, Adventure, ScienceFiction, Thriller]</td>\n",
       "      <td>[ChrisPratt, BryceDallasHoward, IrrfanKhan, Vi...</td>\n",
       "      <td>[ColinTrevorrow]</td>\n",
       "      <td>[monster, dna, tyrannosaurusrex, velociraptor,...</td>\n",
       "      <td>[Twenty-two, years, after, the, events, of, Ju...</td>\n",
       "      <td>[Twenty-two, years, after, the, events, of, Ju...</td>\n",
       "    </tr>\n",
       "    <tr>\n",
       "      <th>1</th>\n",
       "      <td>76341</td>\n",
       "      <td>Mad Max: Fury Road</td>\n",
       "      <td>[Action, Adventure, ScienceFiction, Thriller]</td>\n",
       "      <td>[TomHardy, CharlizeTheron, HughKeays-Byrne, Ni...</td>\n",
       "      <td>[GeorgeMiller]</td>\n",
       "      <td>[future, chase, post-apocalyptic, dystopia, au...</td>\n",
       "      <td>[An, apocalyptic, story, set, in, the, furthes...</td>\n",
       "      <td>[An, apocalyptic, story, set, in, the, furthes...</td>\n",
       "    </tr>\n",
       "    <tr>\n",
       "      <th>2</th>\n",
       "      <td>262500</td>\n",
       "      <td>Insurgent</td>\n",
       "      <td>[Adventure, ScienceFiction, Thriller]</td>\n",
       "      <td>[ShaileneWoodley, TheoJames, KateWinslet, Anse...</td>\n",
       "      <td>[RobertSchwentke]</td>\n",
       "      <td>[basedonnovel, revolution, dystopia, sequel, d...</td>\n",
       "      <td>[Beatrice, Prior, must, confront, her, inner, ...</td>\n",
       "      <td>[Beatrice, Prior, must, confront, her, inner, ...</td>\n",
       "    </tr>\n",
       "    <tr>\n",
       "      <th>3</th>\n",
       "      <td>140607</td>\n",
       "      <td>Star Wars: The Force Awakens</td>\n",
       "      <td>[Action, Adventure, ScienceFiction, Fantasy]</td>\n",
       "      <td>[HarrisonFord, MarkHamill, CarrieFisher, AdamD...</td>\n",
       "      <td>[J.J.Abrams]</td>\n",
       "      <td>[android, spaceship, jedi, spaceopera, 3d]</td>\n",
       "      <td>[Thirty, years, after, defeating, the, Galacti...</td>\n",
       "      <td>[Thirty, years, after, defeating, the, Galacti...</td>\n",
       "    </tr>\n",
       "    <tr>\n",
       "      <th>4</th>\n",
       "      <td>168259</td>\n",
       "      <td>Furious 7</td>\n",
       "      <td>[Action, Crime, Thriller]</td>\n",
       "      <td>[VinDiesel, PaulWalker, JasonStatham, Michelle...</td>\n",
       "      <td>[JamesWan]</td>\n",
       "      <td>[carrace, speed, revenge, suspense, car]</td>\n",
       "      <td>[Deckard, Shaw, seeks, revenge, against, Domin...</td>\n",
       "      <td>[Deckard, Shaw, seeks, revenge, against, Domin...</td>\n",
       "    </tr>\n",
       "  </tbody>\n",
       "</table>\n",
       "</div>"
      ],
      "text/plain": [
       "       id                original_title   \n",
       "0  135397                Jurassic World  \\\n",
       "1   76341            Mad Max: Fury Road   \n",
       "2  262500                     Insurgent   \n",
       "3  140607  Star Wars: The Force Awakens   \n",
       "4  168259                     Furious 7   \n",
       "\n",
       "                                          genres   \n",
       "0  [Action, Adventure, ScienceFiction, Thriller]  \\\n",
       "1  [Action, Adventure, ScienceFiction, Thriller]   \n",
       "2          [Adventure, ScienceFiction, Thriller]   \n",
       "3   [Action, Adventure, ScienceFiction, Fantasy]   \n",
       "4                      [Action, Crime, Thriller]   \n",
       "\n",
       "                                                cast           director   \n",
       "0  [ChrisPratt, BryceDallasHoward, IrrfanKhan, Vi...   [ColinTrevorrow]  \\\n",
       "1  [TomHardy, CharlizeTheron, HughKeays-Byrne, Ni...     [GeorgeMiller]   \n",
       "2  [ShaileneWoodley, TheoJames, KateWinslet, Anse...  [RobertSchwentke]   \n",
       "3  [HarrisonFord, MarkHamill, CarrieFisher, AdamD...       [J.J.Abrams]   \n",
       "4  [VinDiesel, PaulWalker, JasonStatham, Michelle...         [JamesWan]   \n",
       "\n",
       "                                            keywords   \n",
       "0  [monster, dna, tyrannosaurusrex, velociraptor,...  \\\n",
       "1  [future, chase, post-apocalyptic, dystopia, au...   \n",
       "2  [basedonnovel, revolution, dystopia, sequel, d...   \n",
       "3         [android, spaceship, jedi, spaceopera, 3d]   \n",
       "4           [carrace, speed, revenge, suspense, car]   \n",
       "\n",
       "                                            overview   \n",
       "0  [Twenty-two, years, after, the, events, of, Ju...  \\\n",
       "1  [An, apocalyptic, story, set, in, the, furthes...   \n",
       "2  [Beatrice, Prior, must, confront, her, inner, ...   \n",
       "3  [Thirty, years, after, defeating, the, Galacti...   \n",
       "4  [Deckard, Shaw, seeks, revenge, against, Domin...   \n",
       "\n",
       "                                                tags  \n",
       "0  [Twenty-two, years, after, the, events, of, Ju...  \n",
       "1  [An, apocalyptic, story, set, in, the, furthes...  \n",
       "2  [Beatrice, Prior, must, confront, her, inner, ...  \n",
       "3  [Thirty, years, after, defeating, the, Galacti...  \n",
       "4  [Deckard, Shaw, seeks, revenge, against, Domin...  "
      ]
     },
     "execution_count": 178,
     "metadata": {},
     "output_type": "execute_result"
    }
   ],
   "source": [
    "new_data.head()"
   ]
  },
  {
   "cell_type": "code",
   "execution_count": 179,
   "id": "2c5a74a0-354e-4d33-ac00-6f50b2da65d1",
   "metadata": {},
   "outputs": [],
   "source": [
    "movies = new_data[['id', 'original_title', 'tags']]"
   ]
  },
  {
   "cell_type": "code",
   "execution_count": 180,
   "id": "042d526d-0139-445c-ba55-cb70dfc7b88e",
   "metadata": {},
   "outputs": [
    {
     "data": {
      "text/html": [
       "<div>\n",
       "<style scoped>\n",
       "    .dataframe tbody tr th:only-of-type {\n",
       "        vertical-align: middle;\n",
       "    }\n",
       "\n",
       "    .dataframe tbody tr th {\n",
       "        vertical-align: top;\n",
       "    }\n",
       "\n",
       "    .dataframe thead th {\n",
       "        text-align: right;\n",
       "    }\n",
       "</style>\n",
       "<table border=\"1\" class=\"dataframe\">\n",
       "  <thead>\n",
       "    <tr style=\"text-align: right;\">\n",
       "      <th></th>\n",
       "      <th>id</th>\n",
       "      <th>original_title</th>\n",
       "      <th>tags</th>\n",
       "    </tr>\n",
       "  </thead>\n",
       "  <tbody>\n",
       "    <tr>\n",
       "      <th>0</th>\n",
       "      <td>135397</td>\n",
       "      <td>Jurassic World</td>\n",
       "      <td>[Twenty-two, years, after, the, events, of, Ju...</td>\n",
       "    </tr>\n",
       "    <tr>\n",
       "      <th>1</th>\n",
       "      <td>76341</td>\n",
       "      <td>Mad Max: Fury Road</td>\n",
       "      <td>[An, apocalyptic, story, set, in, the, furthes...</td>\n",
       "    </tr>\n",
       "    <tr>\n",
       "      <th>2</th>\n",
       "      <td>262500</td>\n",
       "      <td>Insurgent</td>\n",
       "      <td>[Beatrice, Prior, must, confront, her, inner, ...</td>\n",
       "    </tr>\n",
       "    <tr>\n",
       "      <th>3</th>\n",
       "      <td>140607</td>\n",
       "      <td>Star Wars: The Force Awakens</td>\n",
       "      <td>[Thirty, years, after, defeating, the, Galacti...</td>\n",
       "    </tr>\n",
       "    <tr>\n",
       "      <th>4</th>\n",
       "      <td>168259</td>\n",
       "      <td>Furious 7</td>\n",
       "      <td>[Deckard, Shaw, seeks, revenge, against, Domin...</td>\n",
       "    </tr>\n",
       "    <tr>\n",
       "      <th>...</th>\n",
       "      <td>...</td>\n",
       "      <td>...</td>\n",
       "      <td>...</td>\n",
       "    </tr>\n",
       "    <tr>\n",
       "      <th>10861</th>\n",
       "      <td>21</td>\n",
       "      <td>The Endless Summer</td>\n",
       "      <td>[The, Endless, Summer,, by, Bruce, Brown,, is,...</td>\n",
       "    </tr>\n",
       "    <tr>\n",
       "      <th>10862</th>\n",
       "      <td>20379</td>\n",
       "      <td>Grand Prix</td>\n",
       "      <td>[Grand, Prix, driver, Pete, Aron, is, fired, b...</td>\n",
       "    </tr>\n",
       "    <tr>\n",
       "      <th>10863</th>\n",
       "      <td>39768</td>\n",
       "      <td>Beregis Avtomobilya</td>\n",
       "      <td>[An, insurance, agent, who, moonlights, as, a,...</td>\n",
       "    </tr>\n",
       "    <tr>\n",
       "      <th>10864</th>\n",
       "      <td>21449</td>\n",
       "      <td>What's Up, Tiger Lily?</td>\n",
       "      <td>[In, comic, Woody, Allen's, film, debut,, he, ...</td>\n",
       "    </tr>\n",
       "    <tr>\n",
       "      <th>10865</th>\n",
       "      <td>22293</td>\n",
       "      <td>Manos: The Hands of Fate</td>\n",
       "      <td>[A, family, gets, lost, on, the, road, and, st...</td>\n",
       "    </tr>\n",
       "  </tbody>\n",
       "</table>\n",
       "<p>10866 rows × 3 columns</p>\n",
       "</div>"
      ],
      "text/plain": [
       "           id                original_title   \n",
       "0      135397                Jurassic World  \\\n",
       "1       76341            Mad Max: Fury Road   \n",
       "2      262500                     Insurgent   \n",
       "3      140607  Star Wars: The Force Awakens   \n",
       "4      168259                     Furious 7   \n",
       "...       ...                           ...   \n",
       "10861      21            The Endless Summer   \n",
       "10862   20379                    Grand Prix   \n",
       "10863   39768           Beregis Avtomobilya   \n",
       "10864   21449        What's Up, Tiger Lily?   \n",
       "10865   22293      Manos: The Hands of Fate   \n",
       "\n",
       "                                                    tags  \n",
       "0      [Twenty-two, years, after, the, events, of, Ju...  \n",
       "1      [An, apocalyptic, story, set, in, the, furthes...  \n",
       "2      [Beatrice, Prior, must, confront, her, inner, ...  \n",
       "3      [Thirty, years, after, defeating, the, Galacti...  \n",
       "4      [Deckard, Shaw, seeks, revenge, against, Domin...  \n",
       "...                                                  ...  \n",
       "10861  [The, Endless, Summer,, by, Bruce, Brown,, is,...  \n",
       "10862  [Grand, Prix, driver, Pete, Aron, is, fired, b...  \n",
       "10863  [An, insurance, agent, who, moonlights, as, a,...  \n",
       "10864  [In, comic, Woody, Allen's, film, debut,, he, ...  \n",
       "10865  [A, family, gets, lost, on, the, road, and, st...  \n",
       "\n",
       "[10866 rows x 3 columns]"
      ]
     },
     "execution_count": 180,
     "metadata": {},
     "output_type": "execute_result"
    }
   ],
   "source": [
    "movies"
   ]
  },
  {
   "cell_type": "code",
   "execution_count": 181,
   "id": "7e5e8e14-a265-4ffd-be9a-cbdb732c70c3",
   "metadata": {},
   "outputs": [],
   "source": [
    "movies.loc[:, 'tags'] = movies['tags'].apply(lambda x: \" \".join(x))"
   ]
  },
  {
   "cell_type": "code",
   "execution_count": 182,
   "id": "3261c54d-8bbb-413a-ae15-526e43e7caca",
   "metadata": {},
   "outputs": [
    {
     "data": {
      "text/plain": [
       "\"Twenty-two years after the events of Jurassic Park, Isla Nublar now features a fully functioning dinosaur theme park, Jurassic World, as originally envisioned by John Hammond. Action Adventure ScienceFiction Thriller monster dna tyrannosaurusrex velociraptor island ChrisPratt BryceDallasHoward IrrfanKhan VincentD'Onofrio NickRobinson ColinTrevorrow\""
      ]
     },
     "execution_count": 182,
     "metadata": {},
     "output_type": "execute_result"
    }
   ],
   "source": [
    "movies.tags.iloc[0]"
   ]
  },
  {
   "cell_type": "code",
   "execution_count": 183,
   "id": "6619e039-4f47-4702-9598-8afd0cf8234f",
   "metadata": {},
   "outputs": [],
   "source": [
    "movies.loc[:, 'tags'] = movies.tags.apply(lambda x: x.lower())"
   ]
  },
  {
   "cell_type": "code",
   "execution_count": 184,
   "id": "5d51024b-5835-4654-8525-48f21f0ec256",
   "metadata": {},
   "outputs": [
    {
     "data": {
      "text/plain": [
       "\"twenty-two years after the events of jurassic park, isla nublar now features a fully functioning dinosaur theme park, jurassic world, as originally envisioned by john hammond. action adventure sciencefiction thriller monster dna tyrannosaurusrex velociraptor island chrispratt brycedallashoward irrfankhan vincentd'onofrio nickrobinson colintrevorrow\""
      ]
     },
     "execution_count": 184,
     "metadata": {},
     "output_type": "execute_result"
    }
   ],
   "source": [
    "movies.tags.iloc[0]"
   ]
  },
  {
   "cell_type": "markdown",
   "id": "9351db83-c898-401c-a43e-d5fa59161336",
   "metadata": {},
   "source": [
    "## Lemmatization"
   ]
  },
  {
   "cell_type": "code",
   "execution_count": 185,
   "id": "72eccc67-89cc-4d92-a60d-255c731c7759",
   "metadata": {},
   "outputs": [],
   "source": [
    "from nltk.stem import WordNetLemmatizer\n",
    "lemmatizer = WordNetLemmatizer()"
   ]
  },
  {
   "cell_type": "code",
   "execution_count": 186,
   "id": "d4e35f39-d53d-4a93-a468-9931a06ed38b",
   "metadata": {},
   "outputs": [],
   "source": [
    "def lemmatize(text):\n",
    "    lemmatized_words = [lemmatizer.lemmatize(i) for i in text.split()]\n",
    "    return \" \".join(lemmatized_words)"
   ]
  },
  {
   "cell_type": "code",
   "execution_count": 187,
   "id": "89eb3eda-75a4-4e21-ac0e-49ee2935c992",
   "metadata": {},
   "outputs": [],
   "source": [
    "movies.loc[:, 'tags'] = movies['tags'].apply(lemmatize)"
   ]
  },
  {
   "cell_type": "code",
   "execution_count": 188,
   "id": "84c7f407-5702-4bbf-a315-fac97e3ae42f",
   "metadata": {},
   "outputs": [
    {
     "data": {
      "text/plain": [
       "\"grand prix driver pete aron is fired by his team after a crash at monaco that injures his teammate, scott stoddard. while stoddard struggle to recover, aron begin to drive for another team, and start dating stoddard's wife. action adventure drama carrace racing formula1 jamesgarner evamariesaint yvesmontand toshiråmifune brianbedford johnfrankenheimer\""
      ]
     },
     "execution_count": 188,
     "metadata": {},
     "output_type": "execute_result"
    }
   ],
   "source": [
    "movies.iloc[10862]['tags']"
   ]
  },
  {
   "cell_type": "markdown",
   "id": "802a54c7-55ee-4045-b544-de602aef3d41",
   "metadata": {},
   "source": [
    "## Text Vectorization using TF-IDF"
   ]
  },
  {
   "cell_type": "code",
   "execution_count": 189,
   "id": "0e7c5596-2a3d-4ee4-9ad5-7c54ada5c7b0",
   "metadata": {},
   "outputs": [],
   "source": [
    "from sklearn.feature_extraction.text import TfidfVectorizer"
   ]
  },
  {
   "cell_type": "code",
   "execution_count": 190,
   "id": "e5b20327-0ba6-47f0-8473-38daf5b5eba6",
   "metadata": {},
   "outputs": [],
   "source": [
    "# cv = CountVectorizer(max_features = 10000, stop_words = 'english')\n",
    "\n",
    "tf_idf = TfidfVectorizer(stop_words='english')"
   ]
  },
  {
   "cell_type": "code",
   "execution_count": 191,
   "id": "e562b87a-8008-4aa3-8c86-3ed50982bc49",
   "metadata": {},
   "outputs": [],
   "source": [
    "vectors = tf_idf.fit_transform(movies['tags'])  # Will return Sparse Matrix"
   ]
  },
  {
   "cell_type": "code",
   "execution_count": 192,
   "id": "b5d0b638-76e3-4b16-aa29-b02e8578fbc5",
   "metadata": {},
   "outputs": [
    {
     "data": {
      "text/plain": [
       "array([[0., 0., 0., ..., 0., 0., 0.],\n",
       "       [0., 0., 0., ..., 0., 0., 0.],\n",
       "       [0., 0., 0., ..., 0., 0., 0.],\n",
       "       ...,\n",
       "       [0., 0., 0., ..., 0., 0., 0.],\n",
       "       [0., 0., 0., ..., 0., 0., 0.],\n",
       "       [0., 0., 0., ..., 0., 0., 0.]])"
      ]
     },
     "execution_count": 192,
     "metadata": {},
     "output_type": "execute_result"
    }
   ],
   "source": [
    "vectors.toarray()\n",
    "\n",
    "# movies tags vectors"
   ]
  },
  {
   "cell_type": "code",
   "execution_count": 193,
   "id": "3bbba4a4-11df-4585-9981-aeeda7ed18b7",
   "metadata": {},
   "outputs": [
    {
     "data": {
      "text/plain": [
       "(10866, 60085)"
      ]
     },
     "execution_count": 193,
     "metadata": {},
     "output_type": "execute_result"
    }
   ],
   "source": [
    "vectors.shape \n",
    "\n",
    "# 10866 are Movies and 60085 are the max features i.e. unique words from the corpus"
   ]
  },
  {
   "cell_type": "code",
   "execution_count": 194,
   "id": "a084e6d3-b185-48d7-899b-d4458b532c35",
   "metadata": {},
   "outputs": [],
   "source": [
    "# for i in cv.get_feature_names_out():\n",
    "#     print(i)"
   ]
  },
  {
   "cell_type": "code",
   "execution_count": 195,
   "id": "09859e6e-cd0d-4c70-9da1-7c5c955c5289",
   "metadata": {},
   "outputs": [],
   "source": [
    "from sklearn.metrics.pairwise import cosine_similarity  #cosine similiarity and distance are inversely proportional"
   ]
  },
  {
   "cell_type": "code",
   "execution_count": 196,
   "id": "2b223003-be71-440d-bbb2-ea0d7a48ef11",
   "metadata": {},
   "outputs": [],
   "source": [
    "# Similarity of Every vector to other vectors\n",
    "\n",
    "similarity = cosine_similarity(vectors)"
   ]
  },
  {
   "cell_type": "code",
   "execution_count": 197,
   "id": "a070cf98-493d-44eb-8c95-8028f1632348",
   "metadata": {},
   "outputs": [
    {
     "data": {
      "text/plain": [
       "(10866, 10866)"
      ]
     },
     "execution_count": 197,
     "metadata": {},
     "output_type": "execute_result"
    }
   ],
   "source": [
    "similarity.shape"
   ]
  },
  {
   "cell_type": "code",
   "execution_count": 198,
   "id": "7bf23b25-1be1-43ee-8c32-81404cb62361",
   "metadata": {},
   "outputs": [
    {
     "data": {
      "text/plain": [
       "array([1.        , 0.0243209 , 0.01642654, ..., 0.        , 0.00731805,\n",
       "       0.        ])"
      ]
     },
     "execution_count": 198,
     "metadata": {},
     "output_type": "execute_result"
    }
   ],
   "source": [
    "similarity[0]"
   ]
  },
  {
   "cell_type": "markdown",
   "id": "8025e11f-81d9-4cc7-a578-718136a8afb9",
   "metadata": {},
   "source": [
    "## Creating a Method to get the Similar Movies"
   ]
  },
  {
   "cell_type": "code",
   "execution_count": 199,
   "id": "ece146d0-28ca-48ae-948a-1be66c41a369",
   "metadata": {},
   "outputs": [
    {
     "data": {
      "text/plain": [
       "<enumerate at 0x2143a988940>"
      ]
     },
     "execution_count": 199,
     "metadata": {},
     "output_type": "execute_result"
    }
   ],
   "source": [
    "enumerate(similarity[0])"
   ]
  },
  {
   "cell_type": "code",
   "execution_count": 200,
   "id": "88ada0f7-c422-492b-b91e-a99f6a61142c",
   "metadata": {},
   "outputs": [
    {
     "data": {
      "text/plain": [
       "[(5391, 0.2827880559172387),\n",
       " (10223, 0.256989860964588),\n",
       " (2820, 0.16881185952294242),\n",
       " (510, 0.15240253379629148),\n",
       " (10192, 0.1341220718290218)]"
      ]
     },
     "execution_count": 200,
     "metadata": {},
     "output_type": "execute_result"
    }
   ],
   "source": [
    "# key is for sorting by the similarity, and slicing from 1:6 so that first movie itself (similarity = 1) does not show up in the results\n",
    "\n",
    "sorted(list(enumerate(similarity[0])), reverse=True, key = lambda x: x[1])[1:6]"
   ]
  },
  {
   "cell_type": "code",
   "execution_count": 254,
   "id": "a1a3d492-527a-461c-9b62-33170e45b424",
   "metadata": {},
   "outputs": [],
   "source": [
    "def recommend(movie):\n",
    "\n",
    "    movie_index = movies[movies['original_title'] == movie].index[0]\n",
    "    movie_similarity_array = similarity[movie_index]\n",
    "    sorted_similiarity_and_indexed_list = sorted(list(enumerate(movie_similarity_array)), reverse=True, key = lambda x: x[1])[1:6]\n",
    "\n",
    "    for movie in sorted_similiarity_and_indexed_list:\n",
    "        print(movies.iloc[movie[0]].original_title)\n",
    "    "
   ]
  },
  {
   "cell_type": "code",
   "execution_count": 255,
   "id": "0c228a36-a5c6-459a-a30b-be28ed6e8235",
   "metadata": {},
   "outputs": [
    {
     "name": "stdout",
     "output_type": "stream",
     "text": [
      "The Lost World: Jurassic Park\n",
      "Jurassic Park\n",
      "Jurassic Park III\n",
      "Jurassic City\n",
      "Futureworld\n"
     ]
    }
   ],
   "source": [
    "recommend('Jurassic World')"
   ]
  },
  {
   "cell_type": "code",
   "execution_count": 256,
   "id": "e1e03f98-4c47-4042-8ba8-a93d40ffa972",
   "metadata": {},
   "outputs": [
    {
     "name": "stdout",
     "output_type": "stream",
     "text": [
      "Skyfall\n",
      "Quantum of Solace\n",
      "Never Say Never Again\n",
      "Kingsman: The Secret Service\n",
      "Goldeneye\n"
     ]
    }
   ],
   "source": [
    "recommend('Spectre')"
   ]
  },
  {
   "cell_type": "code",
   "execution_count": 257,
   "id": "f2933f25-dc62-4e5a-9330-f79da59e3d91",
   "metadata": {},
   "outputs": [
    {
     "name": "stdout",
     "output_type": "stream",
     "text": [
      "Red Planet\n",
      "Robinson Crusoe on Mars\n",
      "Apollo 18\n",
      "The Last Days on Mars\n",
      "RocketMan\n"
     ]
    }
   ],
   "source": [
    "recommend('The Martian')"
   ]
  },
  {
   "cell_type": "code",
   "execution_count": 258,
   "id": "eeef240c-1dd6-4e14-874c-a5d2f2256b0d",
   "metadata": {},
   "outputs": [
    {
     "name": "stdout",
     "output_type": "stream",
     "text": [
      "Moonraker\n",
      "Robinson Crusoe on Mars\n",
      "SpaceCamp\n",
      "Alien Apocalypse\n",
      "Hubble 3D\n"
     ]
    }
   ],
   "source": [
    "recommend('Gravity')"
   ]
  },
  {
   "cell_type": "code",
   "execution_count": 259,
   "id": "ccc53671-c562-47d0-aeb2-039dc6d2fbde",
   "metadata": {},
   "outputs": [
    {
     "name": "stdout",
     "output_type": "stream",
     "text": [
      "The Dead Room\n",
      "Outlaw Prophet: Warren Jeffs\n",
      "Manos: The Hands of Fate\n",
      "Insidious\n",
      "The Apparition\n"
     ]
    }
   ],
   "source": [
    "recommend('The Conjuring')"
   ]
  },
  {
   "cell_type": "code",
   "execution_count": 260,
   "id": "b4b09df4-80d9-4137-82c9-e82ce546afe1",
   "metadata": {},
   "outputs": [
    {
     "name": "stdout",
     "output_type": "stream",
     "text": [
      "The Bourne Supremacy\n",
      "The Bourne Legacy\n",
      "The Bourne Identity\n",
      "Universal Soldier\n",
      "The Paperboy\n"
     ]
    }
   ],
   "source": [
    "recommend('The Bourne Ultimatum')"
   ]
  },
  {
   "cell_type": "code",
   "execution_count": 272,
   "id": "24de1c6f-dd73-4931-a449-b47623397918",
   "metadata": {},
   "outputs": [
    {
     "name": "stdout",
     "output_type": "stream",
     "text": [
      "RoboCop 2\n",
      "RoboCop 3\n",
      "Robosapien: Rebooted\n",
      "Runaway\n",
      "Nemesis\n"
     ]
    }
   ],
   "source": [
    "recommend('RoboCop')"
   ]
  },
  {
   "cell_type": "code",
   "execution_count": 262,
   "id": "82f5babf-60f2-472a-8a02-b0a25fb3c971",
   "metadata": {},
   "outputs": [
    {
     "name": "stdout",
     "output_type": "stream",
     "text": [
      "Foul Play\n",
      "Black Mass\n",
      "By the Gun\n",
      "Elizabeth\n",
      "Celtic Pride\n"
     ]
    }
   ],
   "source": [
    "recommend('Spotlight')"
   ]
  },
  {
   "cell_type": "code",
   "execution_count": 263,
   "id": "cdcf5273-e9d8-4ce4-ac90-df1e9e26432c",
   "metadata": {},
   "outputs": [
    {
     "name": "stdout",
     "output_type": "stream",
     "text": [
      "Mission: Impossible - Rogue Nation\n",
      "Mission: Impossible III\n",
      "Mission: Impossible II\n",
      "Mission: Impossible\n",
      "Big Game\n"
     ]
    }
   ],
   "source": [
    "recommend('Mission: Impossible - Ghost Protocol')"
   ]
  },
  {
   "cell_type": "code",
   "execution_count": 264,
   "id": "04cfc8f4-1f91-4529-bf3e-b7b95a3a3dd0",
   "metadata": {},
   "outputs": [
    {
     "name": "stdout",
     "output_type": "stream",
     "text": [
      "2012\n",
      "The Day the Earth Caught Fire\n",
      "Armageddon\n",
      "V\n",
      "Gambit\n"
     ]
    }
   ],
   "source": [
    "recommend('The Core')"
   ]
  },
  {
   "cell_type": "code",
   "execution_count": 280,
   "id": "55e5c34b-5726-478f-a7d4-f5c0ed1274c5",
   "metadata": {},
   "outputs": [
    {
     "name": "stdout",
     "output_type": "stream",
     "text": [
      "Ghajini\n",
      "Unknown\n",
      "Extracted\n",
      "Amnesiac\n",
      "Anarchy Parlor\n"
     ]
    }
   ],
   "source": [
    "recommend('Memento')"
   ]
  },
  {
   "cell_type": "code",
   "execution_count": 266,
   "id": "96c5f0a2-f382-4f9b-92f3-28d32374a045",
   "metadata": {},
   "outputs": [
    {
     "name": "stdout",
     "output_type": "stream",
     "text": [
      "The Hunger Games: Mockingjay - Part 2\n",
      "The Hunger Games: Catching Fire\n",
      "The Hunger Games: Mockingjay - Part 1\n",
      "Indie Game: The Movie\n",
      "Hunger\n"
     ]
    }
   ],
   "source": [
    "recommend('The Hunger Games')"
   ]
  },
  {
   "cell_type": "code",
   "execution_count": 267,
   "id": "3483cf90-923e-47dc-afe5-c37bad835319",
   "metadata": {},
   "outputs": [
    {
     "name": "stdout",
     "output_type": "stream",
     "text": [
      "Seal Team Six: The Raid on Osama Bin Laden\n",
      "Jack Ryan: Shadow Recruit\n",
      "Mission: Impossible\n",
      "World Trade Center\n",
      "The Sum of All Fears\n"
     ]
    }
   ],
   "source": [
    "recommend('Zero Dark Thirty')"
   ]
  },
  {
   "cell_type": "code",
   "execution_count": 268,
   "id": "80724b02-227e-480a-aa55-d9c7ef5d5157",
   "metadata": {},
   "outputs": [
    {
     "name": "stdout",
     "output_type": "stream",
     "text": [
      "Born to Be Blue\n",
      "The Cotton Club\n",
      "La tourneuse de pages\n",
      "Low Down\n",
      "Ninja III: The Domination\n"
     ]
    }
   ],
   "source": [
    "recommend('Whiplash')"
   ]
  },
  {
   "cell_type": "code",
   "execution_count": 269,
   "id": "445f81ca-a2c6-4e80-8e84-c02bd7cff542",
   "metadata": {},
   "outputs": [
    {
     "name": "stdout",
     "output_type": "stream",
     "text": [
      "Fast & Furious 6\n",
      "The Fast and the Furious\n",
      "Fast & Furious\n",
      "Fast Five\n",
      "Los Bandoleros\n"
     ]
    }
   ],
   "source": [
    "recommend('Furious 7')"
   ]
  },
  {
   "cell_type": "code",
   "execution_count": 273,
   "id": "63b04a9a-d950-4bbc-8f60-5db56bbf2a8d",
   "metadata": {},
   "outputs": [
    {
     "name": "stdout",
     "output_type": "stream",
     "text": [
      "Cars 2\n",
      "Time Travel Mater\n",
      "Le Mans\n",
      "Mater and the Ghostlight\n",
      "Tokyo Mater\n"
     ]
    }
   ],
   "source": [
    "recommend('Cars')"
   ]
  },
  {
   "cell_type": "code",
   "execution_count": 271,
   "id": "2556937f-5f9c-4f8c-8a22-a96f6f4fe895",
   "metadata": {},
   "outputs": [
    {
     "name": "stdout",
     "output_type": "stream",
     "text": [
      "The Godfather: Part II\n",
      "The Godfather: Part III\n",
      "Blood Ties\n",
      "Eulogy\n",
      "Family Business\n"
     ]
    }
   ],
   "source": [
    "recommend('The Godfather')"
   ]
  },
  {
   "cell_type": "code",
   "execution_count": 291,
   "id": "3dcd7408-3571-40a3-a5d7-29d2d2340b68",
   "metadata": {},
   "outputs": [
    {
     "name": "stdout",
     "output_type": "stream",
     "text": [
      "Magicians\n",
      "The End of the Affair\n",
      "American Movie\n",
      "Batman Begins\n",
      "The Incredible Burt Wonderstone\n"
     ]
    }
   ],
   "source": [
    "recommend('The Prestige')"
   ]
  },
  {
   "cell_type": "code",
   "execution_count": 292,
   "id": "8226cb53-9f58-42a3-b537-2d1e7076c311",
   "metadata": {},
   "outputs": [
    {
     "name": "stdout",
     "output_type": "stream",
     "text": [
      "Broadcast News\n",
      "Anchorman 2: The Legend Continues\n",
      "Frailty\n",
      "Kalifornia\n",
      "Where the Truth Lies\n"
     ]
    }
   ],
   "source": [
    "recommend('Nightcrawler')"
   ]
  },
  {
   "cell_type": "code",
   "execution_count": 274,
   "id": "537e9754-d37c-4afa-be9b-b539b0467ccf",
   "metadata": {},
   "outputs": [],
   "source": [
    "# import pickle"
   ]
  },
  {
   "cell_type": "code",
   "execution_count": 275,
   "id": "4074fb90-3963-4a91-9a10-a5fd7f4210ef",
   "metadata": {},
   "outputs": [],
   "source": [
    "# pickle.dump(similarity, open('similarity_matrix.pkl', 'wb'))"
   ]
  }
 ],
 "metadata": {
  "kernelspec": {
   "display_name": "Python 3 (ipykernel)",
   "language": "python",
   "name": "python3"
  },
  "language_info": {
   "codemirror_mode": {
    "name": "ipython",
    "version": 3
   },
   "file_extension": ".py",
   "mimetype": "text/x-python",
   "name": "python",
   "nbconvert_exporter": "python",
   "pygments_lexer": "ipython3",
   "version": "3.10.6"
  }
 },
 "nbformat": 4,
 "nbformat_minor": 5
}
